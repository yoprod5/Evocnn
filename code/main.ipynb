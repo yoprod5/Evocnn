{
 "cells": [
  {
   "cell_type": "code",
   "execution_count": 2,
   "id": "d40e285c",
   "metadata": {},
   "outputs": [
    {
     "name": "stderr",
     "output_type": "stream",
     "text": [
      "/home/ummisco/anaconda3/envs/Maskrcnn/lib/python3.7/site-packages/tensorflow/python/framework/dtypes.py:516: FutureWarning: Passing (type, 1) or '1type' as a synonym of type is deprecated; in a future version of numpy, it will be understood as (type, (1,)) / '(1,)type'.\n",
      "  _np_qint8 = np.dtype([(\"qint8\", np.int8, 1)])\n",
      "/home/ummisco/anaconda3/envs/Maskrcnn/lib/python3.7/site-packages/tensorflow/python/framework/dtypes.py:517: FutureWarning: Passing (type, 1) or '1type' as a synonym of type is deprecated; in a future version of numpy, it will be understood as (type, (1,)) / '(1,)type'.\n",
      "  _np_quint8 = np.dtype([(\"quint8\", np.uint8, 1)])\n",
      "/home/ummisco/anaconda3/envs/Maskrcnn/lib/python3.7/site-packages/tensorflow/python/framework/dtypes.py:518: FutureWarning: Passing (type, 1) or '1type' as a synonym of type is deprecated; in a future version of numpy, it will be understood as (type, (1,)) / '(1,)type'.\n",
      "  _np_qint16 = np.dtype([(\"qint16\", np.int16, 1)])\n",
      "/home/ummisco/anaconda3/envs/Maskrcnn/lib/python3.7/site-packages/tensorflow/python/framework/dtypes.py:519: FutureWarning: Passing (type, 1) or '1type' as a synonym of type is deprecated; in a future version of numpy, it will be understood as (type, (1,)) / '(1,)type'.\n",
      "  _np_quint16 = np.dtype([(\"quint16\", np.uint16, 1)])\n",
      "/home/ummisco/anaconda3/envs/Maskrcnn/lib/python3.7/site-packages/tensorflow/python/framework/dtypes.py:520: FutureWarning: Passing (type, 1) or '1type' as a synonym of type is deprecated; in a future version of numpy, it will be understood as (type, (1,)) / '(1,)type'.\n",
      "  _np_qint32 = np.dtype([(\"qint32\", np.int32, 1)])\n",
      "/home/ummisco/anaconda3/envs/Maskrcnn/lib/python3.7/site-packages/tensorflow/python/framework/dtypes.py:525: FutureWarning: Passing (type, 1) or '1type' as a synonym of type is deprecated; in a future version of numpy, it will be understood as (type, (1,)) / '(1,)type'.\n",
      "  np_resource = np.dtype([(\"resource\", np.ubyte, 1)])\n",
      "/home/ummisco/anaconda3/envs/Maskrcnn/lib/python3.7/site-packages/tensorboard/compat/tensorflow_stub/dtypes.py:541: FutureWarning: Passing (type, 1) or '1type' as a synonym of type is deprecated; in a future version of numpy, it will be understood as (type, (1,)) / '(1,)type'.\n",
      "  _np_qint8 = np.dtype([(\"qint8\", np.int8, 1)])\n",
      "/home/ummisco/anaconda3/envs/Maskrcnn/lib/python3.7/site-packages/tensorboard/compat/tensorflow_stub/dtypes.py:542: FutureWarning: Passing (type, 1) or '1type' as a synonym of type is deprecated; in a future version of numpy, it will be understood as (type, (1,)) / '(1,)type'.\n",
      "  _np_quint8 = np.dtype([(\"quint8\", np.uint8, 1)])\n",
      "/home/ummisco/anaconda3/envs/Maskrcnn/lib/python3.7/site-packages/tensorboard/compat/tensorflow_stub/dtypes.py:543: FutureWarning: Passing (type, 1) or '1type' as a synonym of type is deprecated; in a future version of numpy, it will be understood as (type, (1,)) / '(1,)type'.\n",
      "  _np_qint16 = np.dtype([(\"qint16\", np.int16, 1)])\n",
      "/home/ummisco/anaconda3/envs/Maskrcnn/lib/python3.7/site-packages/tensorboard/compat/tensorflow_stub/dtypes.py:544: FutureWarning: Passing (type, 1) or '1type' as a synonym of type is deprecated; in a future version of numpy, it will be understood as (type, (1,)) / '(1,)type'.\n",
      "  _np_quint16 = np.dtype([(\"quint16\", np.uint16, 1)])\n",
      "/home/ummisco/anaconda3/envs/Maskrcnn/lib/python3.7/site-packages/tensorboard/compat/tensorflow_stub/dtypes.py:545: FutureWarning: Passing (type, 1) or '1type' as a synonym of type is deprecated; in a future version of numpy, it will be understood as (type, (1,)) / '(1,)type'.\n",
      "  _np_qint32 = np.dtype([(\"qint32\", np.int32, 1)])\n",
      "/home/ummisco/anaconda3/envs/Maskrcnn/lib/python3.7/site-packages/tensorboard/compat/tensorflow_stub/dtypes.py:550: FutureWarning: Passing (type, 1) or '1type' as a synonym of type is deprecated; in a future version of numpy, it will be understood as (type, (1,)) / '(1,)type'.\n",
      "  np_resource = np.dtype([(\"resource\", np.ubyte, 1)])\n"
     ]
    }
   ],
   "source": [
    "from Search_lengths import *\n",
    "from evolve import Evolve_CNN\n",
    "from utils import *\n",
    "import tensorflow as tf\n",
    "\n",
    "\n",
    "\n",
    "\n",
    "\n"
   ]
  },
  {
   "cell_type": "code",
   "execution_count": 3,
   "id": "cc2431b5",
   "metadata": {},
   "outputs": [],
   "source": [
    "def begin_evolve(m_prob, m_eta, x_prob, x_eta, pop_size, train_data, train_label, validate_data, validate_label, number_of_channel, epochs, batch_size, train_data_length, validate_data_length, total_generation_number, eta,length):\n",
    "    cnn = Evolve_CNN(m_prob, m_eta, x_prob, x_eta, pop_size, train_data, train_label, validate_data, validate_label, number_of_channel, epochs, batch_size, train_data_length, validate_data_length, eta,length)\n",
    "    cnn.evaluate_fitness(0)\n",
    "    #search_length=Search_Length(train_data, train_label, validate_data, validate_label, number_of_channel, epochs, batch_size, train_data_length, validate_data_length)\n",
    "    #length = search_length.initialize_popualtion()\n",
    "\n",
    "    for cur_gen_no in range(total_generation_number):\n",
    "        print('The {}/{} generation'.format(cur_gen_no+1, total_generation_number))\n",
    "        cnn.recombinate(cur_gen_no+1)\n",
    "        cnn.environmental_selection(cur_gen_no+1)\n",
    "\n",
    "def restart_evolve(m_prob, m_eta, x_prob, x_eta, pop_size, train_data, train_label, validate_data, validation_label, number_of_channel, epochs, batch_size, train_data_length, validate_data_length, total_gene_number, eta,length):\n",
    "    gen_no, pops, _= load_population()\n",
    "    cnn = Evolve_CNN(m_prob, m_eta, x_prob, x_eta, pop_size, train_data, train_label, validate_data, validation_label, number_of_channel, epochs, batch_size, train_data_length, validate_data_length, eta,length)\n",
    "    cnn.pops=pops\n",
    "    if gen_no < 0: # go to evaluate\n",
    "        print('first to evaluate...')\n",
    "        cnn.evaluate_fitness(gen_no)\n",
    "    else:\n",
    "        for cure_gen_no in range(gen_no+1, total_gene_number+1):\n",
    "            print('Continue to evolve from the {}/{} generation...'.format(cure_gen_no, total_gene_number))\n",
    "            cnn.recombinate(cure_gen_no)\n",
    "            cnn.environmental_selection(cure_gen_no)\n",
    "\n",
    "\n",
    "def search_algorithm(train_data, train_label, validate_data, validate_label, number_of_channel, epochs, batch_size, train_data_length, validate_data_length):\n",
    "    search_length= Search_Length(train_data, train_label, validate_data, validate_label, number_of_channel, epochs, batch_size, train_data_length, validate_data_length)\n",
    "    length = search_length.Search_length()\n",
    "    return length"
   ]
  },
  {
   "cell_type": "code",
   "execution_count": 4,
   "id": "12c2d2f5",
   "metadata": {},
   "outputs": [
    {
     "name": "stdout",
     "output_type": "stream",
     "text": [
      "WARNING:tensorflow:From /tmp/ipykernel_53090/818916884.py:3: The name tf.logging.set_verbosity is deprecated. Please use tf.compat.v1.logging.set_verbosity instead.\n",
      "\n",
      "WARNING:tensorflow:From /tmp/ipykernel_53090/818916884.py:3: The name tf.logging.ERROR is deprecated. Please use tf.compat.v1.logging.ERROR instead.\n",
      "\n",
      "initializing population with number 24...\n",
      "initializing Inidivdu with number 2...\n",
      "initializing Inidivdu with number 6...\n",
      "initializing Inidivdu with number 10...\n",
      "initializing Inidivdu with number 14...\n",
      "initializing Inidivdu with number 18...\n",
      "initializing Inidivdu with number 22...\n",
      "initializing Inidivdu with number 4...\n",
      "Length:4, Num:0, Mean:0.00, Std:0.00, conv[19,19,20,0.83,0.78], pool[2,2,0.86], full[1253,-0.2809107244147324,0.8179004240353533], full[100,0.8791543841441307,0.9213351760461467]\n",
      "Length:8, Num:0, Mean:0.00, Std:0.00, conv[9,9,22,-0.06,0.59], pool[4,4,0.76], conv[5,5,46,-0.67,0.02], pool[2,2,0.97], conv[2,2,38,0.99,0.73], pool[2,2,0.58], full[1892,-0.8796299439436575,0.01026657162886202], full[100,0.9656027000537337,0.3111035438282804]\n",
      "Length:12, Num:0, Mean:0.00, Std:0.00, conv[7,7,3,0.42,0.59], pool[4,4,0.97], conv[15,15,47,-0.31,0.86], pool[2,2,0.41], conv[9,9,17,0.84,0.82], pool[2,2,0.14], conv[7,7,28,0.30,0.35], pool[4,4,0.81], conv[14,14,17,-0.43,0.82], pool[4,4,0.76], full[1527,0.4984111478459401,0.12242229170279362], full[100,0.26517800232210975,0.5726524843579163]\n",
      "Length:17, Num:0, Mean:0.00, Std:0.00, conv[16,16,16,-0.92,0.73], pool[4,4,0.07], conv[9,9,26,-0.77,0.87], pool[4,4,0.51], conv[15,15,26,0.59,0.72], pool[4,4,0.73], conv[3,3,28,0.65,0.37], pool[2,2,0.26], conv[14,14,5,-0.28,0.35], pool[4,4,0.31], conv[8,8,28,-0.58,0.01], pool[4,4,0.58], conv[14,14,28,0.29,0.95], pool[2,2,0.70], full[1317,-0.8652456685022376,0.5971927161468685], full[1301,-0.612609678441425,0.2466396032514292], full[100,0.7487113122005591,0.1924721608680796]\n",
      "Length:20, Num:0, Mean:0.00, Std:0.00, conv[18,18,36,0.27,0.97], pool[2,2,0.52], conv[9,9,12,-0.57,0.90], pool[2,2,0.85], conv[12,12,37,-0.96,0.94], pool[2,2,0.18], conv[12,12,14,-0.37,0.02], pool[2,2,0.83], conv[10,10,45,-0.41,0.08], pool[4,4,0.90], conv[18,18,27,-0.05,0.97], pool[2,2,0.30], conv[15,15,28,-0.01,0.86], pool[4,4,0.90], conv[3,3,28,-0.38,0.11], pool[4,4,0.78], conv[15,15,23,0.80,0.05], pool[2,2,0.90], full[1586,-0.7365963172872996,0.027305433991883787], full[100,0.20927479303671603,0.5115204886180162]\n",
      "Length:24, Num:0, Mean:0.00, Std:0.00, conv[14,14,9,-0.17,0.21], pool[2,2,0.06], conv[13,13,11,0.00,0.91], pool[4,4,0.83], conv[18,18,23,-0.25,0.84], pool[2,2,0.94], conv[12,12,11,0.35,0.09], pool[2,2,0.78], conv[10,10,45,0.59,0.58], pool[2,2,0.12], conv[3,3,30,-0.13,0.13], pool[4,4,0.43], conv[5,5,33,-0.40,0.27], pool[2,2,0.07], conv[11,11,9,-0.19,0.72], pool[2,2,0.18], conv[7,7,23,-0.74,0.23], pool[2,2,0.38], conv[3,3,19,-0.64,0.97], pool[4,4,0.81], conv[15,15,4,-0.05,0.08], pool[4,4,0.66], full[1715,-0.8911885661892307,0.27749413121168964], full[100,-0.31409816447092287,0.8735874831217071]\n",
      "Length:6, Num:0, Mean:0.00, Std:0.00, conv[12,12,43,0.10,0.56], pool[4,4,0.55], conv[16,16,29,-0.29,0.54], pool[2,2,0.73], full[1287,0.5229664847433513,0.9460186553537165], full[100,0.9707146963387789,0.39692967489858977]\n",
      "x_train shape: (50000, 32, 32, 3)\n",
      "x_label shape: (50000, 1)\n",
      "50000 train samples\n",
      "10000 test samples\n",
      "x_label shape: 1\n",
      "x_label shape: 1\n"
     ]
    },
    {
     "ename": "AttributeError",
     "evalue": "'numpy.ndarray' object has no attribute 'batch'",
     "output_type": "error",
     "traceback": [
      "\u001b[0;31m---------------------------------------------------------------------------\u001b[0m",
      "\u001b[0;31mAttributeError\u001b[0m                            Traceback (most recent call last)",
      "\u001b[0;32m/tmp/ipykernel_53090/818916884.py\u001b[0m in \u001b[0;36m<module>\u001b[0;34m\u001b[0m\n\u001b[1;32m     18\u001b[0m     \u001b[0;31m#begin_evolve(0.9, 0.05, 0.2, 0.05, pop_size, None, None, None, None, number_of_channel, epochs, batch_size, train_data_length, validate_data_length, total_generation_number, eta)\u001b[0m\u001b[0;34m\u001b[0m\u001b[0;34m\u001b[0m\u001b[0;34m\u001b[0m\u001b[0m\n\u001b[1;32m     19\u001b[0m \u001b[0;34m\u001b[0m\u001b[0m\n\u001b[0;32m---> 20\u001b[0;31m     \u001b[0mlength\u001b[0m\u001b[0;34m=\u001b[0m\u001b[0msearch_algorithm\u001b[0m\u001b[0;34m(\u001b[0m\u001b[0;32mNone\u001b[0m\u001b[0;34m,\u001b[0m \u001b[0;32mNone\u001b[0m\u001b[0;34m,\u001b[0m \u001b[0;32mNone\u001b[0m\u001b[0;34m,\u001b[0m \u001b[0;32mNone\u001b[0m\u001b[0;34m,\u001b[0m \u001b[0mnumber_of_channel\u001b[0m\u001b[0;34m,\u001b[0m \u001b[0mepochs\u001b[0m\u001b[0;34m,\u001b[0m \u001b[0mbatch_size\u001b[0m\u001b[0;34m,\u001b[0m \u001b[0mtrain_data_length\u001b[0m\u001b[0;34m,\u001b[0m \u001b[0mvalidate_data_length\u001b[0m\u001b[0;34m)\u001b[0m\u001b[0;34m\u001b[0m\u001b[0;34m\u001b[0m\u001b[0m\n\u001b[0m\u001b[1;32m     21\u001b[0m \u001b[0;34m\u001b[0m\u001b[0m\n\u001b[1;32m     22\u001b[0m     \u001b[0;31m#begin_evolve(0.9, 0.05, 0.2, 0.05, pop_size, None, None, None, None, number_of_channel, epochs, batch_size, train_data_length, validate_data_length,total_generation_number, eta,2)\u001b[0m\u001b[0;34m\u001b[0m\u001b[0;34m\u001b[0m\u001b[0;34m\u001b[0m\u001b[0m\n",
      "\u001b[0;32m/tmp/ipykernel_53090/72211372.py\u001b[0m in \u001b[0;36msearch_algorithm\u001b[0;34m(train_data, train_label, validate_data, validate_label, number_of_channel, epochs, batch_size, train_data_length, validate_data_length)\u001b[0m\n\u001b[1;32m     26\u001b[0m \u001b[0;32mdef\u001b[0m \u001b[0msearch_algorithm\u001b[0m\u001b[0;34m(\u001b[0m\u001b[0mtrain_data\u001b[0m\u001b[0;34m,\u001b[0m \u001b[0mtrain_label\u001b[0m\u001b[0;34m,\u001b[0m \u001b[0mvalidate_data\u001b[0m\u001b[0;34m,\u001b[0m \u001b[0mvalidate_label\u001b[0m\u001b[0;34m,\u001b[0m \u001b[0mnumber_of_channel\u001b[0m\u001b[0;34m,\u001b[0m \u001b[0mepochs\u001b[0m\u001b[0;34m,\u001b[0m \u001b[0mbatch_size\u001b[0m\u001b[0;34m,\u001b[0m \u001b[0mtrain_data_length\u001b[0m\u001b[0;34m,\u001b[0m \u001b[0mvalidate_data_length\u001b[0m\u001b[0;34m)\u001b[0m\u001b[0;34m:\u001b[0m\u001b[0;34m\u001b[0m\u001b[0;34m\u001b[0m\u001b[0m\n\u001b[1;32m     27\u001b[0m     \u001b[0msearch_length\u001b[0m\u001b[0;34m=\u001b[0m \u001b[0mSearch_Length\u001b[0m\u001b[0;34m(\u001b[0m\u001b[0mtrain_data\u001b[0m\u001b[0;34m,\u001b[0m \u001b[0mtrain_label\u001b[0m\u001b[0;34m,\u001b[0m \u001b[0mvalidate_data\u001b[0m\u001b[0;34m,\u001b[0m \u001b[0mvalidate_label\u001b[0m\u001b[0;34m,\u001b[0m \u001b[0mnumber_of_channel\u001b[0m\u001b[0;34m,\u001b[0m \u001b[0mepochs\u001b[0m\u001b[0;34m,\u001b[0m \u001b[0mbatch_size\u001b[0m\u001b[0;34m,\u001b[0m \u001b[0mtrain_data_length\u001b[0m\u001b[0;34m,\u001b[0m \u001b[0mvalidate_data_length\u001b[0m\u001b[0;34m)\u001b[0m\u001b[0;34m\u001b[0m\u001b[0;34m\u001b[0m\u001b[0m\n\u001b[0;32m---> 28\u001b[0;31m     \u001b[0mlength\u001b[0m \u001b[0;34m=\u001b[0m \u001b[0msearch_length\u001b[0m\u001b[0;34m.\u001b[0m\u001b[0mSearch_length\u001b[0m\u001b[0;34m(\u001b[0m\u001b[0;34m)\u001b[0m\u001b[0;34m\u001b[0m\u001b[0;34m\u001b[0m\u001b[0m\n\u001b[0m\u001b[1;32m     29\u001b[0m     \u001b[0;32mreturn\u001b[0m \u001b[0mlength\u001b[0m\u001b[0;34m\u001b[0m\u001b[0;34m\u001b[0m\u001b[0m\n",
      "\u001b[0;32m~/Desktop/Ousmane/Evocnn-main/code/Search_lengths.py\u001b[0m in \u001b[0;36mSearch_length\u001b[0;34m(self)\u001b[0m\n\u001b[1;32m    115\u001b[0m         E= Evaluate(self.pops,self.train_data ,self.train_label,self.validate_data,self.validate_label,\n\u001b[1;32m    116\u001b[0m self.number_of_channel,self.epochs,self.batch_size,self.train_data_length,self.validate_data_length) \n\u001b[0;32m--> 117\u001b[0;31m         \u001b[0mE\u001b[0m\u001b[0;34m.\u001b[0m\u001b[0mparse_population_spaces\u001b[0m\u001b[0;34m(\u001b[0m\u001b[0;34m-\u001b[0m\u001b[0;36m1\u001b[0m\u001b[0;34m)\u001b[0m\u001b[0;34m\u001b[0m\u001b[0;34m\u001b[0m\u001b[0m\n\u001b[0m\u001b[1;32m    118\u001b[0m         \u001b[0mLen\u001b[0m\u001b[0;34m=\u001b[0m\u001b[0mself\u001b[0m\u001b[0;34m.\u001b[0m\u001b[0mespace_selecion\u001b[0m\u001b[0;34m(\u001b[0m\u001b[0;34m)\u001b[0m\u001b[0;34m\u001b[0m\u001b[0;34m\u001b[0m\u001b[0m\n\u001b[1;32m    119\u001b[0m         \u001b[0mprint\u001b[0m\u001b[0;34m(\u001b[0m\u001b[0;34m\"L'espace optimal trouver est {} \"\u001b[0m\u001b[0;34m.\u001b[0m\u001b[0mformat\u001b[0m\u001b[0;34m(\u001b[0m\u001b[0mLen\u001b[0m\u001b[0;34m)\u001b[0m\u001b[0;34m)\u001b[0m\u001b[0;34m\u001b[0m\u001b[0;34m\u001b[0m\u001b[0m\n",
      "\u001b[0;32m~/Desktop/Ousmane/Evocnn-main/code/evaluate.py\u001b[0m in \u001b[0;36mparse_population_spaces\u001b[0;34m(self, gen_no)\u001b[0m\n\u001b[1;32m     59\u001b[0m         \u001b[0;32mfor\u001b[0m \u001b[0mi\u001b[0m \u001b[0;32min\u001b[0m \u001b[0mrange\u001b[0m\u001b[0;34m(\u001b[0m\u001b[0mself\u001b[0m\u001b[0;34m.\u001b[0m\u001b[0mpops\u001b[0m\u001b[0;34m.\u001b[0m\u001b[0mget_pop_size\u001b[0m\u001b[0;34m(\u001b[0m\u001b[0;34m)\u001b[0m\u001b[0;34m)\u001b[0m\u001b[0;34m:\u001b[0m\u001b[0;34m\u001b[0m\u001b[0;34m\u001b[0m\u001b[0m\n\u001b[1;32m     60\u001b[0m             \u001b[0mindi\u001b[0m \u001b[0;34m=\u001b[0m \u001b[0mself\u001b[0m\u001b[0;34m.\u001b[0m\u001b[0mpops\u001b[0m\u001b[0;34m.\u001b[0m\u001b[0mget_individual_at\u001b[0m\u001b[0;34m(\u001b[0m\u001b[0mi\u001b[0m\u001b[0;34m)\u001b[0m\u001b[0;34m\u001b[0m\u001b[0;34m\u001b[0m\u001b[0m\n\u001b[0;32m---> 61\u001b[0;31m             \u001b[0mrs_mean\u001b[0m\u001b[0;34m,\u001b[0m \u001b[0mrs_std\u001b[0m\u001b[0;34m,\u001b[0m \u001b[0mnum_connections\u001b[0m\u001b[0;34m,\u001b[0m \u001b[0mnew_best\u001b[0m \u001b[0;34m=\u001b[0m \u001b[0mself\u001b[0m\u001b[0;34m.\u001b[0m\u001b[0mparse_individual\u001b[0m\u001b[0;34m(\u001b[0m\u001b[0mindi\u001b[0m\u001b[0;34m,\u001b[0m \u001b[0mself\u001b[0m\u001b[0;34m.\u001b[0m\u001b[0mnumber_of_channel\u001b[0m\u001b[0;34m,\u001b[0m \u001b[0mi\u001b[0m\u001b[0;34m,\u001b[0m \u001b[0msave_dir\u001b[0m\u001b[0;34m,\u001b[0m \u001b[0mhistory_best_score\u001b[0m\u001b[0;34m,\u001b[0m\u001b[0mgen_no\u001b[0m\u001b[0;34m)\u001b[0m\u001b[0;34m\u001b[0m\u001b[0;34m\u001b[0m\u001b[0m\n\u001b[0m\u001b[1;32m     62\u001b[0m             \u001b[0;31m#rs_mean, rs_std, num_connections, new_best = np.random.random(), np.random.random(), np.random.random_integers(1000, 100000), -1\u001b[0m\u001b[0;34m\u001b[0m\u001b[0;34m\u001b[0m\u001b[0;34m\u001b[0m\u001b[0m\n\u001b[1;32m     63\u001b[0m             \u001b[0mindi\u001b[0m\u001b[0;34m.\u001b[0m\u001b[0mmean\u001b[0m \u001b[0;34m=\u001b[0m \u001b[0mrs_mean\u001b[0m\u001b[0;34m\u001b[0m\u001b[0;34m\u001b[0m\u001b[0m\n",
      "\u001b[0;32m~/Desktop/Ousmane/Evocnn-main/code/evaluate.py\u001b[0m in \u001b[0;36mparse_individual\u001b[0;34m(self, indi, num_of_input_channel, indi_index, save_path, history_best_score, gen_no)\u001b[0m\n\u001b[1;32m    199\u001b[0m     \u001b[0;32mdef\u001b[0m \u001b[0mparse_individual\u001b[0m\u001b[0;34m(\u001b[0m\u001b[0mself\u001b[0m\u001b[0;34m,\u001b[0m \u001b[0mindi\u001b[0m\u001b[0;34m,\u001b[0m \u001b[0mnum_of_input_channel\u001b[0m\u001b[0;34m,\u001b[0m \u001b[0mindi_index\u001b[0m\u001b[0;34m,\u001b[0m \u001b[0msave_path\u001b[0m\u001b[0;34m,\u001b[0m \u001b[0mhistory_best_score\u001b[0m\u001b[0;34m,\u001b[0m\u001b[0mgen_no\u001b[0m\u001b[0;34m)\u001b[0m\u001b[0;34m:\u001b[0m\u001b[0;34m\u001b[0m\u001b[0;34m\u001b[0m\u001b[0m\n\u001b[1;32m    200\u001b[0m         \u001b[0mtf\u001b[0m\u001b[0;34m.\u001b[0m\u001b[0mreset_default_graph\u001b[0m\u001b[0;34m(\u001b[0m\u001b[0;34m)\u001b[0m\u001b[0;34m\u001b[0m\u001b[0;34m\u001b[0m\u001b[0m\n\u001b[0;32m--> 201\u001b[0;31m         \u001b[0mtrain_data\u001b[0m\u001b[0;34m,\u001b[0m \u001b[0mtrain_label\u001b[0m \u001b[0;34m=\u001b[0m \u001b[0mget_data\u001b[0m\u001b[0;34m.\u001b[0m\u001b[0mget_train_data\u001b[0m\u001b[0;34m(\u001b[0m\u001b[0mself\u001b[0m\u001b[0;34m.\u001b[0m\u001b[0mbatch_size\u001b[0m\u001b[0;34m)\u001b[0m\u001b[0;34m\u001b[0m\u001b[0;34m\u001b[0m\u001b[0m\n\u001b[0m\u001b[1;32m    202\u001b[0m         \u001b[0mvalidate_data\u001b[0m\u001b[0;34m,\u001b[0m \u001b[0mvalidate_label\u001b[0m \u001b[0;34m=\u001b[0m \u001b[0mget_data\u001b[0m\u001b[0;34m.\u001b[0m\u001b[0mget_validate_data\u001b[0m\u001b[0;34m(\u001b[0m\u001b[0mself\u001b[0m\u001b[0;34m.\u001b[0m\u001b[0mbatch_size\u001b[0m\u001b[0;34m)\u001b[0m\u001b[0;34m\u001b[0m\u001b[0;34m\u001b[0m\u001b[0m\n\u001b[1;32m    203\u001b[0m         \u001b[0;31m#print(\"x_train shape:\", train_data.shape)\u001b[0m\u001b[0;34m\u001b[0m\u001b[0;34m\u001b[0m\u001b[0;34m\u001b[0m\u001b[0m\n",
      "\u001b[0;32m~/Desktop/Ousmane/Evocnn-main/code/get_data.py\u001b[0m in \u001b[0;36mget_train_data\u001b[0;34m(batch_size)\u001b[0m\n\u001b[1;32m    121\u001b[0m     \u001b[0;31m#t_image, t_label = tf.train.batch([t_image, t_label], batch_size=batch_size, num_threads=2, capacity=batch_size*3)\u001b[0m\u001b[0;34m\u001b[0m\u001b[0;34m\u001b[0m\u001b[0;34m\u001b[0m\u001b[0m\n\u001b[1;32m    122\u001b[0m     \u001b[0;31m#t_image=t_image.batch(batch_size)\u001b[0m\u001b[0;34m\u001b[0m\u001b[0;34m\u001b[0m\u001b[0;34m\u001b[0m\u001b[0m\n\u001b[0;32m--> 123\u001b[0;31m     \u001b[0mt_image\u001b[0m \u001b[0;34m=\u001b[0m \u001b[0mt_image\u001b[0m\u001b[0;34m.\u001b[0m\u001b[0mbatch\u001b[0m\u001b[0;34m(\u001b[0m\u001b[0mbatch_size\u001b[0m\u001b[0;34m,\u001b[0m \u001b[0mdrop_remainder\u001b[0m\u001b[0;34m=\u001b[0m\u001b[0;32mTrue\u001b[0m\u001b[0;34m)\u001b[0m\u001b[0;34m\u001b[0m\u001b[0;34m\u001b[0m\u001b[0m\n\u001b[0m\u001b[1;32m    124\u001b[0m     \u001b[0mprint\u001b[0m\u001b[0;34m(\u001b[0m\u001b[0mt_image\u001b[0m\u001b[0;34m.\u001b[0m\u001b[0mshape\u001b[0m\u001b[0;34m,\u001b[0m \u001b[0;34m\"train shape\"\u001b[0m\u001b[0;34m)\u001b[0m\u001b[0;34m\u001b[0m\u001b[0;34m\u001b[0m\u001b[0m\n\u001b[1;32m    125\u001b[0m     \u001b[0mprint\u001b[0m\u001b[0;34m(\u001b[0m\u001b[0mt_label\u001b[0m\u001b[0;34m.\u001b[0m\u001b[0mshape\u001b[0m\u001b[0;34m,\u001b[0m \u001b[0;34m\"t_label.shape\"\u001b[0m\u001b[0;34m)\u001b[0m\u001b[0;34m\u001b[0m\u001b[0;34m\u001b[0m\u001b[0m\n",
      "\u001b[0;31mAttributeError\u001b[0m: 'numpy.ndarray' object has no attribute 'batch'"
     ]
    }
   ],
   "source": [
    "if __name__ == '__main__':\n",
    "    os.environ[\"CUDA_VISIBLE_DEVICES\"] = \"0\"\n",
    "    tf.logging.set_verbosity(tf.logging.ERROR)\n",
    "    if not tf.gfile.Exists('./save_data'):\n",
    "        tf.gfile.MkDir('./save_data')\n",
    "\n",
    "    #train_data, validation_data, test_data = get_mnist_data()\n",
    "    batch_size = 100\n",
    "    tf.reset_default_graph()\n",
    "    number_of_channel = 3\n",
    "    train_data_length = 8000\n",
    "    validate_data_length = 2000\n",
    "    total_generation_number = 50# total generation number\n",
    "    pop_size = 25\n",
    "    epochs = 8\n",
    "    eta = 1/20\n",
    "    #CUDA1\n",
    "    #begin_evolve(0.9, 0.05, 0.2, 0.05, pop_size, None, None, None, None, number_of_channel, epochs, batch_size, train_data_length, validate_data_length, total_generation_number, eta)\n",
    "    \n",
    "    length=search_algorithm(None, None, None, None, number_of_channel, epochs, batch_size, train_data_length, validate_data_length)\n",
    "\n",
    "    #begin_evolve(0.9, 0.05, 0.2, 0.05, pop_size, None, None, None, None, number_of_channel, epochs, batch_size, train_data_length, validate_data_length,total_generation_number, eta,2)\n",
    "\n",
    "    #restart_evolve(0.9, 0.05, 0.2, 0.05, pop_size, None, None, None, None, number_of_channel, epochs, batch_size, train_data_length, validate_data_length,total_generation_number, eta,2)\n",
    "\n",
    "\n",
    "\n"
   ]
  },
  {
   "cell_type": "code",
   "execution_count": null,
   "id": "1cfea240",
   "metadata": {},
   "outputs": [],
   "source": []
  }
 ],
 "metadata": {
  "kernelspec": {
   "display_name": "Python 3 (ipykernel)",
   "language": "python",
   "name": "python3"
  },
  "language_info": {
   "codemirror_mode": {
    "name": "ipython",
    "version": 3
   },
   "file_extension": ".py",
   "mimetype": "text/x-python",
   "name": "python",
   "nbconvert_exporter": "python",
   "pygments_lexer": "ipython3",
   "version": "3.7.11"
  }
 },
 "nbformat": 4,
 "nbformat_minor": 5
}
